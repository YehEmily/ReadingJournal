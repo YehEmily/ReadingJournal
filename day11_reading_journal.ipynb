{
 "cells": [
  {
   "cell_type": "markdown",
   "metadata": {},
   "source": [
    "# Day 11 Reading Journal\n",
    "\n",
    "This journal includes several required exercises, but it is meant to encourage active reading more generally.  You should use the journal to take detailed notes, catalog questions, and explore the content from Think Python deeply.\n",
    "\n",
    "Reading: Review Think Python Chapters 15-17\n",
    "\n",
    "**Due: Monday, February 29 at 12 noon**\n",
    "\n"
   ]
  },
  {
   "cell_type": "markdown",
   "metadata": {},
   "source": [
    "## [Chapter 15](http://www.greenteapress.com/thinkpython/html/thinkpython016.html), [Chapter 16](http://www.greenteapress.com/thinkpython/html/thinkpython017.html), [Chapter 17](http://www.greenteapress.com/thinkpython/html/thinkpython018.html)\n",
    "\n",
    "\n",
    "By the end of chapter 17, we have all the tools we need to create our own user-defined types known as classes. In this reading journal, we're asking you to review and solidify your understanding of this material so we can build on it for the rest of the course. \n",
    "\n",
    "If you didn't get a chance to fully complete the Day 10 reading journal, you may want to do so now."
   ]
  },
  {
   "cell_type": "markdown",
   "metadata": {
    "problem": "Terminology"
   },
   "source": [
    "### Terminology\n",
    "\n",
    "You should be familiar with the following list of terms and concepts. If any of them are unclear to you, re-read, ask, write a definition in your own words, and try an example if appropriate.\n",
    "\n",
    " - class\n",
    " - object\n",
    " - instance\n",
    " - attribute\n",
    " - method\n",
    " - shallow vs deep copying\n",
    " - pure functions vs modifiers\n",
    " - initializing object instances\n",
    " "
   ]
  },
  {
   "cell_type": "markdown",
   "metadata": {
    "is_question": true,
    "problem": "Exercise 1"
   },
   "source": [
    "### Exercise\n",
    "\n",
    "We're going to take the first steps toward writing a calendar application. To keep things simple, we'll restrict ourselves to a single day for now. Write an `Event` class with the following attributes:\n",
    "\n",
    " - `name`  : Title for the `Event`\n",
    " - `start` : `Time` object representing the start time for the `Event`\n",
    " - `end`   : `Time` object representing the end time for the `Event`\n",
    "\n",
    "You can also augment your `Event` class with additional attributes, such as location and attendees.\n",
    "\n",
    "Write `__init__` and `__str__` methods for your `Event` class."
   ]
  },
  {
   "cell_type": "code",
   "execution_count": 1,
   "metadata": {
    "collapsed": false,
    "solution": "Exercise 1"
   },
   "outputs": [
    {
     "name": "stdout",
     "output_type": "stream",
     "text": [
      "Event Name: Birthday Party \n",
      "Time of Event: 03:45:50 to 06:50:50\n"
     ]
    }
   ],
   "source": [
    "class Time(object):\n",
    "    \"\"\"Represents a time.\n",
    "    Attributes: Hours, minutes, seconds\"\"\"\n",
    "\n",
    "    def __init__(self, hours=0, minutes=0, seconds=0):\n",
    "        self.hours = hours\n",
    "        self.minutes = minutes\n",
    "        self.seconds = seconds\n",
    "\n",
    "    def __str__(self):\n",
    "        return '%02d:%02d:%02d' % (self.hours, self.minutes, self.seconds)\n",
    "\n",
    "class Event(object):\n",
    "    \"\"\"Represents an event.\n",
    "    Attributes: Name, time\"\"\"\n",
    "\n",
    "    def __init__(self, name, start, end):\n",
    "        self.name = name\n",
    "        self.start = start\n",
    "        self.end = end\n",
    "\n",
    "    def __str__(self):\n",
    "        return \"Event Name: {} \\nTime of Event: {} to {}\".format(self.name, self.start, self.end)\n",
    "\n",
    "start = Time(3,45,50)\n",
    "end = Time(6,50,50)\n",
    "\n",
    "birthday = Event(\"Birthday Party\", start, end)\n",
    "print birthday"
   ]
  },
  {
   "cell_type": "markdown",
   "metadata": {
    "is_question": true,
    "problem": "Exercise 2"
   },
   "source": [
    "### Exercise\n",
    "\n",
    "Write a `duration` method that returns the duration of the `Event` in minutes."
   ]
  },
  {
   "cell_type": "code",
   "execution_count": 3,
   "metadata": {
    "collapsed": false,
    "solution": "Exercise 2"
   },
   "outputs": [
    {
     "name": "stdout",
     "output_type": "stream",
     "text": [
      "170.833333333\n"
     ]
    }
   ],
   "source": [
    "class Time(object):\n",
    "    \"\"\"Represents a time.\n",
    "    Attributes: Hours, minutes, seconds\"\"\"\n",
    "\n",
    "    def __init__(self, hours=0, minutes=0, seconds=0):\n",
    "        self.hours = hours\n",
    "        self.minutes = minutes\n",
    "        self.seconds = seconds\n",
    "\n",
    "    def __str__(self):\n",
    "        return '%02d:%02d:%02d' % (self.hours, self.minutes, self.seconds)\n",
    "\n",
    "class Event(object):\n",
    "    \"\"\"Represents an event.\n",
    "    Attributes: Name, time\"\"\"\n",
    "\n",
    "    def __init__(self, name, start, end):\n",
    "        self.name = name\n",
    "        self.start = start\n",
    "        self.end = end\n",
    "\n",
    "    def duration(self, start, end):\n",
    "        total = 0\n",
    "        total_hours = end.hours - start.hours\n",
    "        total_minutes = end.minutes - start.minutes\n",
    "        total_seconds = end.seconds - start.seconds\n",
    "        total = float(60 * total_hours) + float(total_minutes) + float(total_seconds / 60.0)\n",
    "        return total\n",
    "\n",
    "    def __str__(self):\n",
    "        return \"Event Name: {} \\nTime of Event: {} to {}\".format(self.name, self.start, self.end)\n",
    "\n",
    "start = Time(3,30,00)\n",
    "end = Time(6,20,50)\n",
    "birthday = Event(\"Birthday Party\", start, end)\n",
    "print Event.duration(birthday, start, end)"
   ]
  },
  {
   "cell_type": "markdown",
   "metadata": {
    "is_question": true,
    "problem": "Exercise 3"
   },
   "source": [
    "### Exercise\n",
    "\n",
    "Write an `Agenda` class that contains several `Event`s for the day.\n",
    "\n",
    "**Quick check: ** How should you store `Event`s within your `Agenda` class?\n",
    "\n",
    "Your `Agenda` class should include a `print_agenda` method that prints out your schedule for the day, in order.\n",
    "\n",
    "**Optional:** Include a `is_feasible` method that returns `True` if your schedule has no time conflicts. You may want to write additional helper methods for the `Event` class to make this easier."
   ]
  },
  {
   "cell_type": "code",
   "execution_count": 23,
   "metadata": {
    "collapsed": false,
    "solution": "Exercise 3"
   },
   "outputs": [
    {
     "name": "stdout",
     "output_type": "stream",
     "text": [
      "Event Name: Sleeping Time \n",
      "Time of Event: 00:00:00 to 08:00:00\n",
      "\n",
      "Event Name: Birthday Party \n",
      "Time of Event: 13:00:00 to 14:00:00\n",
      "\n",
      "Event Name: SoftDes Class \n",
      "Time of Event: 15:20:00 to 17:00:00\n",
      "\n",
      "Event Name: Dinner Date \n",
      "Time of Event: 18:00:00 to 20:00:00\n",
      "\n",
      "\n"
     ]
    }
   ],
   "source": [
    "class Time(object):\n",
    "    \"\"\"Represents a time.\n",
    "    Attributes: Hours, minutes, seconds\"\"\"\n",
    "\n",
    "    def __init__(self, hours=0, minutes=0, seconds=0):\n",
    "        self.hours = hours\n",
    "        self.minutes = minutes\n",
    "        self.seconds = seconds\n",
    "\n",
    "    def __str__(self):\n",
    "        return '%02d:%02d:%02d' % (self.hours, self.minutes, self.seconds)\n",
    "\n",
    "\n",
    "class Event(object):\n",
    "    \"\"\"Represents an event.\n",
    "    Attributes: Name, time\"\"\"\n",
    "\n",
    "    def __init__(self, name, start, end):\n",
    "        self.name = name\n",
    "        self.start = start\n",
    "        self.end = end\n",
    "\n",
    "    def __str__(self):\n",
    "        return \"Event Name: {} \\nTime of Event: {} to {}\".format(self.name, self.start, self.end)\n",
    "\n",
    "\n",
    "class Agenda(object):\n",
    "    \"\"\"Contains several events for one day.\n",
    "    Attributes: Events, times\"\"\"\n",
    "\n",
    "    def __init__(self, events=None):\n",
    "        if events == None:\n",
    "            events = []\n",
    "        self.events = events\n",
    "\n",
    "    def store_events(self, new_event):\n",
    "        if self.events == []:\n",
    "            self.events.append(new_event)\n",
    "        else:\n",
    "            if new_event.start.hours < self.events[0].start.hours:\n",
    "                self.events.insert(0,new_event)\n",
    "            else:\n",
    "                index = 0\n",
    "                for x in self.events:\n",
    "                    if x.start.hours < new_event.start.hours:\n",
    "                        index = self.events.index(x) + 1\n",
    "                self.events.insert(index, new_event)\n",
    "\n",
    "    def print_agenda(self, *events):\n",
    "        res = \"\"\n",
    "        for item in self.events:\n",
    "            res += str(item) + \"\\n\\n\"\n",
    "        if res == \"\":\n",
    "            return \"There are no events scheduled for today.\"\n",
    "        else:\n",
    "            return res\n",
    "\n",
    "sleep = Event(\"Sleeping Time\", Time(0,0,0), Time(8,0,0))\n",
    "birthday = Event(\"Birthday Party\", Time(13,0,0), Time(14,0,0))\n",
    "softdes = Event(\"SoftDes Class\", Time(15,20,0), Time(17,0,0))\n",
    "dinner_date = Event(\"Dinner Date\", Time(18,0,0), Time(20,0,0))\n",
    "\n",
    "all_events = Agenda()\n",
    "all_events.store_events(birthday)\n",
    "all_events.store_events(dinner_date)\n",
    "all_events.store_events(sleep)\n",
    "all_events.store_events(softdes)\n",
    "\n",
    "print all_events.print_agenda()"
   ]
  },
  {
   "cell_type": "markdown",
   "metadata": {
    "is_question": true,
    "problem": "Exercise 4"
   },
   "source": [
    "### Going Beyond (optional)\n",
    "\n",
    "Some ideas for taking your application further:\n",
    " - Add people and/or places to the mix to create a scheduling assistant\n",
    " - Extend support for day-of-week or full date. A word of warning: dealing with dates and times in real applications is difficult due to the huge number of special cases (Perfect example: this reading journal is due on Leap Day). Consider using something like the Python [datetime](https://docs.python.org/2/library/datetime.html) module.\n",
    " - Use pickle or some other persistence strategy to save and load your `Agenda`."
   ]
  },
  {
   "cell_type": "code",
   "execution_count": null,
   "metadata": {
    "collapsed": true,
    "solution": "Exercise 4"
   },
   "outputs": [],
   "source": []
  },
  {
   "cell_type": "markdown",
   "metadata": {
    "is_poll": true,
    "is_question": true,
    "problem": "Time spent"
   },
   "source": [
    "## Quick poll\n",
    "About how long did you spend working on this Reading Journal?"
   ]
  },
  {
   "cell_type": "markdown",
   "metadata": {
    "poll_response": true,
    "solution": "Time spent"
   },
   "source": [
    " ~3 hours"
   ]
  },
  {
   "cell_type": "markdown",
   "metadata": {
    "is_question": true,
    "problem": "Feedback"
   },
   "source": [
    "## Reading Journal feedback\n",
    "\n",
    "Have any comments on this Reading Journal? Feel free to leave them below and we'll read them when you submit your journal entry. This could include suggestions to improve the exercises, topics you'd like to see covered in class next time, or other feedback.\n",
    "\n",
    "If you have Python questions or run into problems while completing the reading, you should post them to Piazza instead so you can get a quick response before your journal is submitted."
   ]
  },
  {
   "cell_type": "markdown",
   "metadata": {
    "feedback_response": true,
    "solution": "Feedback"
   },
   "source": [
    " "
   ]
  }
 ],
 "metadata": {
  "celltoolbar": "Edit Metadata",
  "kernelspec": {
   "display_name": "Python 2",
   "language": "python",
   "name": "python2"
  },
  "language_info": {
   "codemirror_mode": {
    "name": "ipython",
    "version": 2
   },
   "file_extension": ".py",
   "mimetype": "text/x-python",
   "name": "python",
   "nbconvert_exporter": "python",
   "pygments_lexer": "ipython2",
   "version": "2.7.6"
  }
 },
 "nbformat": 4,
 "nbformat_minor": 0
}
